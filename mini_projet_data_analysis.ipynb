{
 "cells": [
  {
   "cell_type": "code",
   "execution_count": null,
   "id": "3ddb2868",
   "metadata": {},
   "outputs": [],
   "source": [
    "# --- MINI PROJET DATA ANALYSIS ---\n",
    "# Google Colab Notebook\n",
    "# Auteur : Salif Arnauld OUATTARA\n",
    "# Objectif : Extraire et filtrer des données GeoNames pour le Burkina Faso"
   ]
  },
  {
   "cell_type": "code",
   "execution_count": 1,
   "id": "68c63ba8",
   "metadata": {},
   "outputs": [],
   "source": [
    "# ===============================\n",
    "# 1. Importation des librairies\n",
    "# ===============================\n",
    "import pandas as pd\n",
    "import zipfile\n",
    "import requests\n",
    "from io import BytesIO"
   ]
  },
  {
   "cell_type": "code",
   "execution_count": 2,
   "id": "da8c24e0",
   "metadata": {},
   "outputs": [
    {
     "name": "stdout",
     "output_type": "stream",
     "text": [
      "Téléchargement des données GeoNames...\n",
      "Téléchargement et extraction terminés.\n"
     ]
    }
   ],
   "source": [
    "# ===============================\n",
    "# 2. Télécharger et extraire les données GeoNames du Burkina Faso\n",
    "# ===============================\n",
    "print(\"Téléchargement des données GeoNames...\")\n",
    "url = \"https://download.geonames.org/export/dump/BF.zip\"\n",
    "response = requests.get(url)\n",
    "with zipfile.ZipFile(BytesIO(response.content)) as z:\n",
    "    z.extractall(\"data\")  # extraction dans un dossier \"data\"\n",
    "\n",
    "print(\"Téléchargement et extraction terminés.\")"
   ]
  },
  {
   "cell_type": "code",
   "execution_count": 3,
   "id": "863056a4",
   "metadata": {},
   "outputs": [],
   "source": [
    "# ===============================\n",
    "# 3. Lecture du fichier BF.txt\n",
    "# ===============================\n",
    "cols = [\n",
    "    \"geonameid\", \"name\", \"asciiname\", \"alternatenames\",\n",
    "    \"latitude\", \"longitude\", \"feature class\", \"feature code\",\n",
    "    \"country code\", \"cc2\", \"admin1 code\", \"admin2 code\",\n",
    "    \"admin3 code\", \"admin4 code\", \"population\", \"elevation\",\n",
    "    \"dem\", \"timezone\", \"modification date\"\n",
    "]\n",
    "df = pd.read_csv(\"data/BF.txt\", sep=\"\\t\", names=cols, dtype=str)"
   ]
  },
  {
   "cell_type": "code",
   "execution_count": 4,
   "id": "1e1716a3",
   "metadata": {},
   "outputs": [
    {
     "name": "stdout",
     "output_type": "stream",
     "text": [
      "Fichier burkina_location.csv sauvegardé.\n"
     ]
    }
   ],
   "source": [
    "# ===============================\n",
    "# 4. Garder uniquement les colonnes utiles et renommer\n",
    "# ===============================\n",
    "df_clean = df[[\"geonameid\", \"name\", \"latitude\", \"longitude\"]].copy()\n",
    "df_clean.columns = [\"ID\", \"location_name\", \"lat\", \"long\"]\n",
    "\n",
    "# Sauvegarde du fichier nettoyé\n",
    "df_clean.to_csv(\"burkina_location.csv\", index=False)\n",
    "print(\"Fichier burkina_location.csv sauvegardé.\")"
   ]
  },
  {
   "cell_type": "code",
   "execution_count": null,
   "id": "14b6dce5",
   "metadata": {},
   "outputs": [],
   "source": [
    "# ===============================\n",
    "# 5. Filtrages demandés\n",
    "# ==============================="
   ]
  },
  {
   "cell_type": "code",
   "execution_count": 5,
   "id": "3df6f07c",
   "metadata": {},
   "outputs": [
    {
     "name": "stdout",
     "output_type": "stream",
     "text": [
      "10 lignes contenant 'gounghin' extraites.\n"
     ]
    }
   ],
   "source": [
    "# 5.1 Extraction de 'gounghin'\n",
    "df_gounghin = df_clean[df_clean[\"location_name\"].str.lower().str.contains(\"gounghin\")]\n",
    "df_gounghin.to_csv(\"gounghin.csv\", index=False)\n",
    "print(f\"{len(df_gounghin)} lignes contenant 'gounghin' extraites.\")"
   ]
  },
  {
   "cell_type": "code",
   "execution_count": 6,
   "id": "449ddf8f",
   "metadata": {},
   "outputs": [
    {
     "name": "stdout",
     "output_type": "stream",
     "text": [
      "Latitude minimale : 5.21609 -> ['Komoé']\n",
      "Longitude minimale : -5.65968 -> ['Banifing']\n"
     ]
    }
   ],
   "source": [
    "# 5.2 Extraction noms commençant de A à P\n",
    "mask_ap = df_clean[\"location_name\"].str[0].str.upper().between(\"A\", \"P\")\n",
    "df_ap = df_clean[mask_ap]\n",
    "\n",
    "# Latitude et longitude minimales + noms correspondants\n",
    "lat_min = df_ap[\"lat\"].astype(float).min()\n",
    "lon_min = df_ap[\"long\"].astype(float).min()\n",
    "lat_min_name = df_ap[df_ap[\"lat\"].astype(float) == lat_min][\"location_name\"].tolist()\n",
    "lon_min_name = df_ap[df_ap[\"long\"].astype(float) == lon_min][\"location_name\"].tolist()\n",
    "\n",
    "print(f\"Latitude minimale : {lat_min} -> {lat_min_name}\")\n",
    "print(f\"Longitude minimale : {lon_min} -> {lon_min_name}\")"
   ]
  },
  {
   "cell_type": "code",
   "execution_count": 7,
   "id": "becf9253",
   "metadata": {},
   "outputs": [
    {
     "name": "stdout",
     "output_type": "stream",
     "text": [
      "9466 lieux ont lat >= 11 et lon <= 0.5.\n"
     ]
    }
   ],
   "source": [
    "# 5.3 Lieux avec lat >= 11 et lon <= 0.5\n",
    "df_coord = df_clean[(df_clean[\"lat\"].astype(float) >= 11) & (df_clean[\"long\"].astype(float) <= 0.5)]\n",
    "print(f\"{len(df_coord)} lieux ont lat >= 11 et lon <= 0.5.\")"
   ]
  },
  {
   "cell_type": "code",
   "execution_count": 9,
   "id": "927552df",
   "metadata": {},
   "outputs": [
    {
     "name": "stdout",
     "output_type": "stream",
     "text": [
      "Fichier mini_projet.xlsx créé avec les feuilles 'gounghin' et 'A_to_P'.\n"
     ]
    }
   ],
   "source": [
    "# ===============================\n",
    "# 6. Export vers Excel\n",
    "# ===============================\n",
    "with pd.ExcelWriter(\"mini_projet.xlsx\") as writer:\n",
    "    df_gounghin.to_excel(writer, sheet_name=\"gounghin\", index=False)\n",
    "    df_ap.to_excel(writer, sheet_name=\"A_to_P\", index=False)\n",
    "\n",
    "print(\"Fichier mini_projet.xlsx créé avec les feuilles 'gounghin' et 'A_to_P'.\")"
   ]
  },
  {
   "cell_type": "code",
   "execution_count": 10,
   "id": "610c4fcf",
   "metadata": {},
   "outputs": [
    {
     "name": "stdout",
     "output_type": "stream",
     "text": [
      "\n",
      "--- Aperçu gounghin.csv ---\n"
     ]
    },
    {
     "data": {
      "text/html": [
       "<div>\n",
       "<style scoped>\n",
       "    .dataframe tbody tr th:only-of-type {\n",
       "        vertical-align: middle;\n",
       "    }\n",
       "\n",
       "    .dataframe tbody tr th {\n",
       "        vertical-align: top;\n",
       "    }\n",
       "\n",
       "    .dataframe thead th {\n",
       "        text-align: right;\n",
       "    }\n",
       "</style>\n",
       "<table border=\"1\" class=\"dataframe\">\n",
       "  <thead>\n",
       "    <tr style=\"text-align: right;\">\n",
       "      <th></th>\n",
       "      <th>ID</th>\n",
       "      <th>location_name</th>\n",
       "      <th>lat</th>\n",
       "      <th>long</th>\n",
       "    </tr>\n",
       "  </thead>\n",
       "  <tbody>\n",
       "    <tr>\n",
       "      <th>153</th>\n",
       "      <td>2353306</td>\n",
       "      <td>Gounghin</td>\n",
       "      <td>12.06677</td>\n",
       "      <td>-1.42134</td>\n",
       "    </tr>\n",
       "    <tr>\n",
       "      <th>7269</th>\n",
       "      <td>2360473</td>\n",
       "      <td>Gounghin</td>\n",
       "      <td>12.62488</td>\n",
       "      <td>-1.36398</td>\n",
       "    </tr>\n",
       "    <tr>\n",
       "      <th>10260</th>\n",
       "      <td>2570204</td>\n",
       "      <td>Gounghin</td>\n",
       "      <td>12.31436</td>\n",
       "      <td>-1.379</td>\n",
       "    </tr>\n",
       "    <tr>\n",
       "      <th>10746</th>\n",
       "      <td>10342749</td>\n",
       "      <td>Gounghin</td>\n",
       "      <td>12.06667</td>\n",
       "      <td>-0.15</td>\n",
       "    </tr>\n",
       "    <tr>\n",
       "      <th>10759</th>\n",
       "      <td>10629032</td>\n",
       "      <td>BICIAB // Gounghin</td>\n",
       "      <td>12.35921</td>\n",
       "      <td>-1.54273</td>\n",
       "    </tr>\n",
       "  </tbody>\n",
       "</table>\n",
       "</div>"
      ],
      "text/plain": [
       "             ID       location_name       lat      long\n",
       "153     2353306            Gounghin  12.06677  -1.42134\n",
       "7269    2360473            Gounghin  12.62488  -1.36398\n",
       "10260   2570204            Gounghin  12.31436    -1.379\n",
       "10746  10342749            Gounghin  12.06667     -0.15\n",
       "10759  10629032  BICIAB // Gounghin  12.35921  -1.54273"
      ]
     },
     "metadata": {},
     "output_type": "display_data"
    },
    {
     "name": "stdout",
     "output_type": "stream",
     "text": [
      "\n",
      "--- Aperçu A_to_P ---\n"
     ]
    },
    {
     "data": {
      "text/html": [
       "<div>\n",
       "<style scoped>\n",
       "    .dataframe tbody tr th:only-of-type {\n",
       "        vertical-align: middle;\n",
       "    }\n",
       "\n",
       "    .dataframe tbody tr th {\n",
       "        vertical-align: top;\n",
       "    }\n",
       "\n",
       "    .dataframe thead th {\n",
       "        text-align: right;\n",
       "    }\n",
       "</style>\n",
       "<table border=\"1\" class=\"dataframe\">\n",
       "  <thead>\n",
       "    <tr style=\"text-align: right;\">\n",
       "      <th></th>\n",
       "      <th>ID</th>\n",
       "      <th>location_name</th>\n",
       "      <th>lat</th>\n",
       "      <th>long</th>\n",
       "    </tr>\n",
       "  </thead>\n",
       "  <tbody>\n",
       "    <tr>\n",
       "      <th>0</th>\n",
       "      <td>2282318</td>\n",
       "      <td>Pouéné</td>\n",
       "      <td>9.72908</td>\n",
       "      <td>-2.7866</td>\n",
       "    </tr>\n",
       "    <tr>\n",
       "      <th>1</th>\n",
       "      <td>2285251</td>\n",
       "      <td>Léraba Occidentale</td>\n",
       "      <td>10.28333</td>\n",
       "      <td>-5.11667</td>\n",
       "    </tr>\n",
       "    <tr>\n",
       "      <th>2</th>\n",
       "      <td>2287216</td>\n",
       "      <td>Kéléouoro</td>\n",
       "      <td>9.80748</td>\n",
       "      <td>-4.05023</td>\n",
       "    </tr>\n",
       "    <tr>\n",
       "      <th>4</th>\n",
       "      <td>2298457</td>\n",
       "      <td>Issana Bouga</td>\n",
       "      <td>10.91667</td>\n",
       "      <td>-1.18333</td>\n",
       "    </tr>\n",
       "    <tr>\n",
       "      <th>137</th>\n",
       "      <td>2353290</td>\n",
       "      <td>Forêt Classée de Ziga</td>\n",
       "      <td>12.47106</td>\n",
       "      <td>-1.08644</td>\n",
       "    </tr>\n",
       "  </tbody>\n",
       "</table>\n",
       "</div>"
      ],
      "text/plain": [
       "          ID          location_name       lat      long\n",
       "0    2282318                 Pouéné   9.72908   -2.7866\n",
       "1    2285251     Léraba Occidentale  10.28333  -5.11667\n",
       "2    2287216              Kéléouoro   9.80748  -4.05023\n",
       "4    2298457           Issana Bouga  10.91667  -1.18333\n",
       "137  2353290  Forêt Classée de Ziga  12.47106  -1.08644"
      ]
     },
     "metadata": {},
     "output_type": "display_data"
    },
    {
     "name": "stdout",
     "output_type": "stream",
     "text": [
      "\n",
      "--- Aperçu lieux coord >= 11 & <= 0.5 ---\n"
     ]
    },
    {
     "data": {
      "text/html": [
       "<div>\n",
       "<style scoped>\n",
       "    .dataframe tbody tr th:only-of-type {\n",
       "        vertical-align: middle;\n",
       "    }\n",
       "\n",
       "    .dataframe tbody tr th {\n",
       "        vertical-align: top;\n",
       "    }\n",
       "\n",
       "    .dataframe thead th {\n",
       "        text-align: right;\n",
       "    }\n",
       "</style>\n",
       "<table border=\"1\" class=\"dataframe\">\n",
       "  <thead>\n",
       "    <tr style=\"text-align: right;\">\n",
       "      <th></th>\n",
       "      <th>ID</th>\n",
       "      <th>location_name</th>\n",
       "      <th>lat</th>\n",
       "      <th>long</th>\n",
       "    </tr>\n",
       "  </thead>\n",
       "  <tbody>\n",
       "    <tr>\n",
       "      <th>5</th>\n",
       "      <td>2353158</td>\n",
       "      <td>Zyonguen</td>\n",
       "      <td>12.36667</td>\n",
       "      <td>-0.45</td>\n",
       "    </tr>\n",
       "    <tr>\n",
       "      <th>6</th>\n",
       "      <td>2353159</td>\n",
       "      <td>Zyiliwèlè</td>\n",
       "      <td>12.38333</td>\n",
       "      <td>-2.73333</td>\n",
       "    </tr>\n",
       "    <tr>\n",
       "      <th>7</th>\n",
       "      <td>2353160</td>\n",
       "      <td>Zyanko</td>\n",
       "      <td>12.78333</td>\n",
       "      <td>-0.41667</td>\n",
       "    </tr>\n",
       "    <tr>\n",
       "      <th>8</th>\n",
       "      <td>2353161</td>\n",
       "      <td>Zouta</td>\n",
       "      <td>13.14908</td>\n",
       "      <td>-1.28197</td>\n",
       "    </tr>\n",
       "    <tr>\n",
       "      <th>9</th>\n",
       "      <td>2353162</td>\n",
       "      <td>Zourtenga</td>\n",
       "      <td>12.95741</td>\n",
       "      <td>-1.28745</td>\n",
       "    </tr>\n",
       "  </tbody>\n",
       "</table>\n",
       "</div>"
      ],
      "text/plain": [
       "        ID location_name       lat      long\n",
       "5  2353158      Zyonguen  12.36667     -0.45\n",
       "6  2353159     Zyiliwèlè  12.38333  -2.73333\n",
       "7  2353160        Zyanko  12.78333  -0.41667\n",
       "8  2353161         Zouta  13.14908  -1.28197\n",
       "9  2353162     Zourtenga  12.95741  -1.28745"
      ]
     },
     "metadata": {},
     "output_type": "display_data"
    }
   ],
   "source": [
    "# ===============================\n",
    "# 7. Aperçu des fichiers générés\n",
    "# ===============================\n",
    "print(\"\\n--- Aperçu gounghin.csv ---\")\n",
    "display(df_gounghin.head())\n",
    "\n",
    "print(\"\\n--- Aperçu A_to_P ---\")\n",
    "display(df_ap.head())\n",
    "\n",
    "print(\"\\n--- Aperçu lieux coord >= 11 & <= 0.5 ---\")\n",
    "display(df_coord.head())"
   ]
  }
 ],
 "metadata": {
  "kernelspec": {
   "display_name": "Python 3",
   "language": "python",
   "name": "python3"
  },
  "language_info": {
   "codemirror_mode": {
    "name": "ipython",
    "version": 3
   },
   "file_extension": ".py",
   "mimetype": "text/x-python",
   "name": "python",
   "nbconvert_exporter": "python",
   "pygments_lexer": "ipython3",
   "version": "3.13.3"
  }
 },
 "nbformat": 4,
 "nbformat_minor": 5
}
